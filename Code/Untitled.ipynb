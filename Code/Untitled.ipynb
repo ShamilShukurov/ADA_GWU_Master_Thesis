{
 "cells": [
  {
   "cell_type": "code",
   "execution_count": 3,
   "id": "1dca83e8",
   "metadata": {},
   "outputs": [],
   "source": [
    "import pandas as pd\n",
    "import os\n",
    "PREPARED_DATA_PATH = r\"C:\\Users\\shami\\Desktop\\Master_Thesis_Data\\Prepared_Datasets\"\n",
    "TRAIN_TEST_DATA_PATH = r\"C:\\Users\\shami\\Desktop\\Master_Thesis_Data\\Train_Test_Datasets\"\n",
    "\n",
    "DATA_DICT = {\n",
    "    \"Adult\":\"income_class\",\n",
    "    \"cc_fraud_1\":\"Class\",\n",
    "    \"cc_fraud_2\":\"Class\",\n",
    "    \"cc_fraud_3\":\"Class\",\n",
    "    \"cc_fraud_4\":\"Class\",\n",
    "    \"cc_fraud_05\":\"Class\",\n",
    "    \"Churn_Ecom\":\"target_class\",\n",
    "    \"CoverType\":\"target\",\n",
    "    \"GMC_Credit_Scoring\":\"SeriousDlqin2yrs\",\n",
    "    \"Nursery\":\"class\",\n",
    "    \"PTB_Online\":\"Revenue\",\n",
    "    \"PTP_Data\":\"ordered\",\n",
    "    \"Taiwan_Credit_Scoring\":\"Y\",\n",
    "    \"Wine\":\"quality\"\n",
    "    \n",
    "}"
   ]
  },
  {
   "cell_type": "code",
   "execution_count": 17,
   "id": "ade53773",
   "metadata": {},
   "outputs": [],
   "source": [
    "class Experiment_Dataset:\n",
    "    def __init__(self\n",
    "                 ,name: str\n",
    "                 ,X_train: pd.DataFrame\n",
    "                 ,y_train: pd.Series\n",
    "                 ,X_test: pd.DataFrame\n",
    "                 ,y_test: pd.Series\n",
    "                 ,target_col_name: str):\n",
    "        self.name = name\n",
    "        self.X_train = X_train\n",
    "        self.y_train = y_train\n",
    "        self.X_test = X_test\n",
    "        self.y_test = y_test\n",
    "        self.target_col_name = target_col_name"
   ]
  },
  {
   "cell_type": "code",
   "execution_count": 21,
   "id": "4e3937a1",
   "metadata": {},
   "outputs": [],
   "source": [
    "def fetch_dataset(d_name:str):\n",
    "    #get filepath\n",
    "    p_train = os.path.join(TRAIN_TEST_DATA_PATH,f\"{d_name}_test.xlsx\")\n",
    "    p_test = os.path.join(TRAIN_TEST_DATA_PATH,f\"{d_name}_train.xlsx\")\n",
    "    \n",
    "    #get train test data\n",
    "    df_train = pd.read_excel(p_train)\n",
    "    df_test = pd.read_excel(p_test)\n",
    "    \n",
    "    target_col = DATA_DICT[d_name]\n",
    "    \n",
    "    # split them to X y\n",
    "    X_train = df_train.drop(columns = target_col)\n",
    "    y_train = df_train[target_col]\n",
    "\n",
    "    X_test = df_train.drop(columns = target_col)\n",
    "    y_test = df_train[target_col]\n",
    "    \n",
    "    return Experiment_Dataset(d_name, X_train, y_train, X_test, y_test, target_col)"
   ]
  },
  {
   "cell_type": "code",
   "execution_count": 27,
   "id": "b9a26efc",
   "metadata": {},
   "outputs": [],
   "source": [
    "def fetch_all_datasets():\n",
    "    dfs = []\n",
    "    for d in DATA_DICT:\n",
    "        print(f\"Processing {d}...\")\n",
    "        dfs.append(fetch_dataset(d))\n",
    "        print(f\"{d} fetched successfully\")\n",
    "    return dfs"
   ]
  },
  {
   "cell_type": "code",
   "execution_count": 28,
   "id": "de7ea376",
   "metadata": {},
   "outputs": [
    {
     "name": "stdout",
     "output_type": "stream",
     "text": [
      "Processing Adult...\n",
      "Adult fetched successfully\n",
      "Processing cc_fraud_1...\n",
      "cc_fraud_1 fetched successfully\n",
      "Processing cc_fraud_2...\n",
      "cc_fraud_2 fetched successfully\n",
      "Processing cc_fraud_3...\n",
      "cc_fraud_3 fetched successfully\n",
      "Processing cc_fraud_4...\n",
      "cc_fraud_4 fetched successfully\n",
      "Processing cc_fraud_05...\n",
      "cc_fraud_05 fetched successfully\n",
      "Processing Churn_Ecom...\n",
      "Churn_Ecom fetched successfully\n",
      "Processing CoverType...\n",
      "CoverType fetched successfully\n",
      "Processing GMC_Credit_Scoring...\n",
      "GMC_Credit_Scoring fetched successfully\n",
      "Processing Nursery...\n",
      "Nursery fetched successfully\n",
      "Processing PTB_Online...\n",
      "PTB_Online fetched successfully\n",
      "Processing PTP_Data...\n",
      "PTP_Data fetched successfully\n",
      "Processing Taiwan_Credit_Scoring...\n",
      "Taiwan_Credit_Scoring fetched successfully\n",
      "Processing Wine...\n",
      "Wine fetched successfully\n"
     ]
    },
    {
     "data": {
      "text/plain": [
       "[<__main__.Experiment_Dataset at 0x1ffc2a4e9d0>,\n",
       " <__main__.Experiment_Dataset at 0x1ffc2045390>,\n",
       " <__main__.Experiment_Dataset at 0x1ffc3d1bed0>,\n",
       " <__main__.Experiment_Dataset at 0x1ffc3dfb910>,\n",
       " <__main__.Experiment_Dataset at 0x1ffc2dfde50>,\n",
       " <__main__.Experiment_Dataset at 0x1ffc26dd850>,\n",
       " <__main__.Experiment_Dataset at 0x1ffc2cdfc10>,\n",
       " <__main__.Experiment_Dataset at 0x1ffc36cac50>,\n",
       " <__main__.Experiment_Dataset at 0x1ffc67baf50>,\n",
       " <__main__.Experiment_Dataset at 0x1ffcc78b210>,\n",
       " <__main__.Experiment_Dataset at 0x1ffc2f351d0>,\n",
       " <__main__.Experiment_Dataset at 0x1ffc811ae90>,\n",
       " <__main__.Experiment_Dataset at 0x1ffc9693350>,\n",
       " <__main__.Experiment_Dataset at 0x1ffcc4e9c10>]"
      ]
     },
     "execution_count": 28,
     "metadata": {},
     "output_type": "execute_result"
    }
   ],
   "source": [
    "fetch_all_datasets()"
   ]
  },
  {
   "cell_type": "code",
   "execution_count": null,
   "id": "43e010ad",
   "metadata": {},
   "outputs": [],
   "source": []
  }
 ],
 "metadata": {
  "kernelspec": {
   "display_name": "Python 3 (ipykernel)",
   "language": "python",
   "name": "python3"
  },
  "language_info": {
   "codemirror_mode": {
    "name": "ipython",
    "version": 3
   },
   "file_extension": ".py",
   "mimetype": "text/x-python",
   "name": "python",
   "nbconvert_exporter": "python",
   "pygments_lexer": "ipython3",
   "version": "3.11.5"
  }
 },
 "nbformat": 4,
 "nbformat_minor": 5
}
