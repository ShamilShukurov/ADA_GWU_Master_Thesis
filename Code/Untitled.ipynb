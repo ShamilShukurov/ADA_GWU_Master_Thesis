{
 "cells": [
  {
   "cell_type": "code",
   "execution_count": 1,
   "id": "4b2d9b8b",
   "metadata": {},
   "outputs": [],
   "source": [
    "from datasets import *\n",
    "import time"
   ]
  },
  {
   "cell_type": "code",
   "execution_count": 5,
   "id": "c7c9868a",
   "metadata": {},
   "outputs": [
    {
     "name": "stdout",
     "output_type": "stream",
     "text": [
      "Processing Adult...\n",
      "Adult fetched successfully\n",
      "Processing cc_fraud_1...\n",
      "cc_fraud_1 fetched successfully\n",
      "Processing cc_fraud_2...\n",
      "cc_fraud_2 fetched successfully\n",
      "Processing cc_fraud_3...\n",
      "cc_fraud_3 fetched successfully\n",
      "Processing cc_fraud_4...\n",
      "cc_fraud_4 fetched successfully\n",
      "Processing cc_fraud_05...\n",
      "cc_fraud_05 fetched successfully\n",
      "Processing Churn_Ecom...\n",
      "Churn_Ecom fetched successfully\n",
      "Processing CoverType...\n",
      "CoverType fetched successfully\n",
      "Processing GMC_Credit_Scoring...\n",
      "GMC_Credit_Scoring fetched successfully\n",
      "Processing Nursery...\n",
      "Nursery fetched successfully\n",
      "Processing PTB_Online...\n",
      "PTB_Online fetched successfully\n",
      "Processing PTP_Data...\n",
      "PTP_Data fetched successfully\n",
      "Processing Taiwan_Credit_Scoring...\n",
      "Taiwan_Credit_Scoring fetched successfully\n",
      "Processing Wine...\n",
      "Wine fetched successfully\n"
     ]
    }
   ],
   "source": [
    "start_time = time.time()\n",
    "dfs = fetch_all_datasets()\n",
    "end_time = time.time()"
   ]
  },
  {
   "cell_type": "code",
   "execution_count": 7,
   "id": "10115303",
   "metadata": {},
   "outputs": [
    {
     "data": {
      "text/plain": [
       "14"
      ]
     },
     "execution_count": 7,
     "metadata": {},
     "output_type": "execute_result"
    }
   ],
   "source": [
    "len(dfs)"
   ]
  },
  {
   "cell_type": "code",
   "execution_count": 4,
   "id": "f7cd39cd",
   "metadata": {},
   "outputs": [
    {
     "data": {
      "text/plain": [
       "7.0"
      ]
     },
     "execution_count": 4,
     "metadata": {},
     "output_type": "execute_result"
    }
   ],
   "source": [
    "439.3346195220947//60"
   ]
  },
  {
   "cell_type": "code",
   "execution_count": null,
   "id": "9f9b6a58",
   "metadata": {},
   "outputs": [],
   "source": [
    "dfs[0].X"
   ]
  }
 ],
 "metadata": {
  "kernelspec": {
   "display_name": "Python 3 (ipykernel)",
   "language": "python",
   "name": "python3"
  },
  "language_info": {
   "codemirror_mode": {
    "name": "ipython",
    "version": 3
   },
   "file_extension": ".py",
   "mimetype": "text/x-python",
   "name": "python",
   "nbconvert_exporter": "python",
   "pygments_lexer": "ipython3",
   "version": "3.11.5"
  }
 },
 "nbformat": 4,
 "nbformat_minor": 5
}
