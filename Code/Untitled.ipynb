{
 "cells": [
  {
   "cell_type": "code",
   "execution_count": 1,
   "id": "9ceebc95",
   "metadata": {},
   "outputs": [],
   "source": [
    "from datasets import *\n",
    "import time"
   ]
  },
  {
   "cell_type": "code",
   "execution_count": null,
   "id": "b26cc616",
   "metadata": {},
   "outputs": [
    {
     "name": "stdout",
     "output_type": "stream",
     "text": [
      "Processing Adult...\n",
      "Adult fetched successfully\n",
      "Processing cc_fraud_1...\n",
      "cc_fraud_1 fetched successfully\n",
      "Processing cc_fraud_2...\n",
      "cc_fraud_2 fetched successfully\n",
      "Processing cc_fraud_3...\n",
      "cc_fraud_3 fetched successfully\n",
      "Processing cc_fraud_4...\n",
      "cc_fraud_4 fetched successfully\n",
      "Processing cc_fraud_05...\n",
      "cc_fraud_05 fetched successfully\n",
      "Processing Churn_Ecom...\n",
      "Churn_Ecom fetched successfully\n",
      "Processing CoverType...\n",
      "CoverType fetched successfully\n",
      "Processing GMC_Credit_Scoring...\n",
      "GMC_Credit_Scoring fetched successfully\n",
      "Processing Nursery...\n",
      "Nursery fetched successfully\n",
      "Processing PTB_Online...\n",
      "PTB_Online fetched successfully\n",
      "Processing PTP_Data...\n"
     ]
    }
   ],
   "source": [
    "start_time = time.time()\n",
    "fetch_all_datasets()\n",
    "end_time = time.time()"
   ]
  },
  {
   "cell_type": "code",
   "execution_count": null,
   "id": "de56222d",
   "metadata": {},
   "outputs": [],
   "source": [
    "end_time-start_time"
   ]
  },
  {
   "cell_type": "code",
   "execution_count": null,
   "id": "c6f1de44",
   "metadata": {},
   "outputs": [],
   "source": []
  }
 ],
 "metadata": {
  "kernelspec": {
   "display_name": "Python 3 (ipykernel)",
   "language": "python",
   "name": "python3"
  },
  "language_info": {
   "codemirror_mode": {
    "name": "ipython",
    "version": 3
   },
   "file_extension": ".py",
   "mimetype": "text/x-python",
   "name": "python",
   "nbconvert_exporter": "python",
   "pygments_lexer": "ipython3",
   "version": "3.11.5"
  }
 },
 "nbformat": 4,
 "nbformat_minor": 5
}
