{
 "cells": [
  {
   "cell_type": "code",
   "execution_count": 1,
   "id": "ef2f946e",
   "metadata": {},
   "outputs": [],
   "source": [
    "from experiment import *\n",
    "from datasets import *\n",
    "from utils import *\n",
    "import time\n",
    "from learning_algorithms import *\n",
    "from balanced_learn import BalancedLearn\n",
    "from balancer import *"
   ]
  },
  {
   "cell_type": "code",
   "execution_count": 2,
   "id": "c99ae554",
   "metadata": {},
   "outputs": [
    {
     "name": "stdout",
     "output_type": "stream",
     "text": [
      "All datasets are being fetched...\n",
      "Processing Adult...\n",
      "Adult fetched successfully\n",
      "Processing cc_fraud_1...\n",
      "cc_fraud_1 fetched successfully\n",
      "Processing cc_fraud_2...\n",
      "cc_fraud_2 fetched successfully\n",
      "Processing cc_fraud_3...\n",
      "cc_fraud_3 fetched successfully\n",
      "Processing cc_fraud_4...\n",
      "cc_fraud_4 fetched successfully\n",
      "Processing cc_fraud_05...\n",
      "cc_fraud_05 fetched successfully\n",
      "Processing Churn_Ecom...\n",
      "Churn_Ecom fetched successfully\n",
      "Processing CoverType...\n",
      "CoverType fetched successfully\n",
      "Processing GMC_Credit_Scoring...\n",
      "GMC_Credit_Scoring fetched successfully\n",
      "Processing Nursery...\n",
      "Nursery fetched successfully\n",
      "Processing PTB_Online...\n",
      "PTB_Online fetched successfully\n",
      "Processing PTP_Data...\n",
      "PTP_Data fetched successfully\n",
      "Processing Taiwan_Credit_Scoring...\n",
      "Taiwan_Credit_Scoring fetched successfully\n",
      "Processing Wine...\n",
      "Wine fetched successfully\n",
      "All datasets fetched in 6.308959444363912 min\n"
     ]
    }
   ],
   "source": [
    "print(\"All datasets are being fetched...\")\n",
    "\n",
    "start_time = time.time()\n",
    "dfs = fetch_all_datasets()\n",
    "end_time = time.time()\n",
    "\n",
    "print(f\"All datasets fetched in {(end_time-start_time)/60} min\")"
   ]
  },
  {
   "cell_type": "code",
   "execution_count": 3,
   "id": "de68b004",
   "metadata": {},
   "outputs": [
    {
     "name": "stdout",
     "output_type": "stream",
     "text": [
      "==========Adult==========\n",
      "  income_class   Counts    Percents\n",
      "0            0  28910.0   75.887232\n",
      "1            1   9186.0   24.112768\n",
      "2        Total  38096.0  100.000000\n",
      "==========cc_fraud_1==========\n",
      "   Class   Counts    Percents\n",
      "0      0  38966.0   98.998984\n",
      "1      1    394.0    1.001016\n",
      "2  Total  39360.0  100.000000\n",
      "==========cc_fraud_2==========\n",
      "   Class   Counts    Percents\n",
      "0      0  21691.0   97.971996\n",
      "1      1    449.0    2.028004\n",
      "2  Total  22140.0  100.000000\n",
      "==========cc_fraud_3==========\n",
      "   Class   Counts    Percents\n",
      "0      0  14326.0   97.059621\n",
      "1      1    434.0    2.940379\n",
      "2  Total  14760.0  100.000000\n",
      "==========cc_fraud_4==========\n",
      "   Class   Counts    Percents\n",
      "0      0  10627.0   95.998193\n",
      "1      1    443.0    4.001807\n",
      "2  Total  11070.0  100.000000\n",
      "==========cc_fraud_05==========\n",
      "   Class   Counts    Percents\n",
      "0      0  68532.0   99.494774\n",
      "1      1    348.0    0.505226\n",
      "2  Total  68880.0  100.000000\n",
      "==========Churn_Ecom==========\n",
      "  target_class   Counts    Percents\n",
      "0            0  34918.0   88.431343\n",
      "1            1   4568.0   11.568657\n",
      "2        Total  39486.0  100.000000\n",
      "==========CoverType==========\n",
      "  target   Counts  Percents\n",
      "0      0  38618.0    96.545\n",
      "1      1   1382.0     3.455\n",
      "2  Total  40000.0   100.000\n",
      "==========GMC_Credit_Scoring==========\n",
      "  SeriousDlqin2yrs    Counts    Percents\n",
      "0                0   97954.0   93.289524\n",
      "1                1    7046.0    6.710476\n",
      "2            Total  105000.0  100.000000\n",
      "==========Nursery==========\n",
      "   class   Counts   Percents\n",
      "0      0  11369.0   97.47085\n",
      "1      1    295.0    2.52915\n",
      "2  Total  11664.0  100.00000\n",
      "==========PTB_Online==========\n",
      "  Revenue   Counts    Percents\n",
      "0       0   9392.0   84.635487\n",
      "1       1   1705.0   15.364513\n",
      "2   Total  11097.0  100.000000\n",
      "==========PTP_Data==========\n",
      "  ordered   Counts    Percents\n",
      "0       0  87220.0   95.846154\n",
      "1       1   3780.0    4.153846\n",
      "2   Total  91000.0  100.000000\n",
      "==========Taiwan_Credit_Scoring==========\n",
      "       Y   Counts    Percents\n",
      "0      0  21023.0   77.862963\n",
      "1      1   5977.0   22.137037\n",
      "2  Total  27000.0  100.000000\n",
      "==========Wine==========\n",
      "  quality  Counts    Percents\n",
      "0       0  4695.0   80.297589\n",
      "1       1  1152.0   19.702411\n",
      "2   Total  5847.0  100.000000\n"
     ]
    }
   ],
   "source": [
    "for d in dfs:\n",
    "    print(10*\"=\"+d.name+10*\"=\")\n",
    "    print(get_stats(pd.concat([d.X_train, d.y_train], axis=1), d.target_col_name))"
   ]
  },
  {
   "cell_type": "code",
   "execution_count": null,
   "id": "469a2ec3",
   "metadata": {},
   "outputs": [],
   "source": []
  }
 ],
 "metadata": {
  "kernelspec": {
   "display_name": "Python 3 (ipykernel)",
   "language": "python",
   "name": "python3"
  },
  "language_info": {
   "codemirror_mode": {
    "name": "ipython",
    "version": 3
   },
   "file_extension": ".py",
   "mimetype": "text/x-python",
   "name": "python",
   "nbconvert_exporter": "python",
   "pygments_lexer": "ipython3",
   "version": "3.11.5"
  }
 },
 "nbformat": 4,
 "nbformat_minor": 5
}
