{
 "cells": [
  {
   "cell_type": "code",
   "execution_count": 1,
   "id": "239c5e5e",
   "metadata": {},
   "outputs": [],
   "source": [
    "import pandas as pd\n",
    "import os\n",
    "from sklearn.model_selection import train_test_split\n",
    "PREPARED_DATA_PATH = r\"C:\\Users\\shami\\Desktop\\Master_Thesis_Data\\Prepared_Datasets\"\n",
    "TRAIN_TEST_DATA_PATH = r\"C:\\Users\\shami\\Desktop\\Master_Thesis_Data\\Train_Test_Datasets\""
   ]
  },
  {
   "cell_type": "code",
   "execution_count": null,
   "id": "ec09055c",
   "metadata": {},
   "outputs": [],
   "source": [
    "def split_and_save_excel_files(folder_path, output_folder):\n",
    "    # List all Excel files in the given folder\n",
    "    excel_files = [f for f in os.listdir(folder_path) if f.endswith('.xlsx') or f.endswith('.xls')]\n",
    "    \n",
    "    for file in excel_files:\n",
    "        print(f\"Processing '{file}':\")\n",
    "        # Construct file path\n",
    "        file_path = os.path.join(folder_path, file)\n",
    "        # Read the Excel file into a DataFrame\n",
    "        df = pd.read_excel(file_path)\n",
    "        \n",
    "        # Determine test size based on the number of rows\n",
    "        if len(df) > 95000:\n",
    "            test_size = 0.3\n",
    "        elif 45000 < len(df) <= 95000:\n",
    "            test_size = 0.2\n",
    "        else:\n",
    "            test_size = 0.1\n",
    "        \n",
    "        # Split the DataFrame into training and testing sets\n",
    "        df_train, df_test = train_test_split(df, random_state=42, test_size=test_size, shuffle=True)\n",
    "        \n",
    "        # Construct the output file names\n",
    "        base_filename = os.path.splitext(file)[0]\n",
    "        train_file_path = os.path.join(output_folder, f\"{base_filename}_train.xlsx\")\n",
    "        test_file_path = os.path.join(output_folder, f\"{base_filename}_test.xlsx\")\n",
    "        \n",
    "        # Save the training and testing sets\n",
    "        df_train.to_excel(train_file_path, index=False)\n",
    "        df_test.to_excel(test_file_path, index=False)\n",
    "        \n",
    "        # Print information about the processed file\n",
    "        print(f\"Processed '{file}':\")\n",
    "        print(f\"    Total rows: {len(df)}, Training rows: {len(df_train)}, Testing rows: {len(df_test)}\")\n",
    "\n",
    "# Example usage\n",
    "split_and_save_excel_files(PREPARED_DATA_PATH, TRAIN_TEST_DATA_PATH)"
   ]
  },
  {
   "cell_type": "code",
   "execution_count": null,
   "id": "32ffba25",
   "metadata": {},
   "outputs": [],
   "source": []
  }
 ],
 "metadata": {
  "kernelspec": {
   "display_name": "Python 3 (ipykernel)",
   "language": "python",
   "name": "python3"
  },
  "language_info": {
   "codemirror_mode": {
    "name": "ipython",
    "version": 3
   },
   "file_extension": ".py",
   "mimetype": "text/x-python",
   "name": "python",
   "nbconvert_exporter": "python",
   "pygments_lexer": "ipython3",
   "version": "3.11.5"
  }
 },
 "nbformat": 4,
 "nbformat_minor": 5
}
