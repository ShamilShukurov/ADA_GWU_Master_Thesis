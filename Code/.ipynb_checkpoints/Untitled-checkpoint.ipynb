{
 "cells": [
  {
   "cell_type": "code",
   "execution_count": 3,
   "id": "f81621f5",
   "metadata": {},
   "outputs": [],
   "source": [
    "import pandas as pd\n",
    "import os\n",
    "PREPARED_DATA_PATH = r\"C:\\Users\\shami\\Desktop\\Master_Thesis_Data\\Prepared_Datasets\"\n",
    "TRAIN_TEST_DATA_PATH = r\"C:\\Users\\shami\\Desktop\\Master_Thesis_Data\\Train_Test_Datasets\"\n",
    "\n",
    "DATA_DICT = {\n",
    "    \"Adult\":\"income_class\",\n",
    "    \"cc_fraud_1\":\"Class\",\n",
    "    \"cc_fraud_2\":\"Class\",\n",
    "    \"cc_fraud_3\":\"Class\",\n",
    "    \"cc_fraud_4\":\"Class\",\n",
    "    \"cc_fraud_05\":\"Class\",\n",
    "    \"Churn_Ecom\":\"target_class\",\n",
    "    \"CoverType\":\"target\",\n",
    "    \"GMC_Credit_Scoring\":\"SeriousDlqin2yrs\",\n",
    "    \"Nursery\":\"class\",\n",
    "    \"PTB_Online\":\"Revenue\",\n",
    "    \"PTP_Data\":\"ordered\",\n",
    "    \"Taiwan_Credit_Scoring\":\"Y\",\n",
    "    \"Wine\":\"quality\"\n",
    "    \n",
    "}"
   ]
  },
  {
   "cell_type": "code",
   "execution_count": 17,
   "id": "4be1c60d",
   "metadata": {},
   "outputs": [],
   "source": [
    "class Experiment_Dataset:\n",
    "    def __init__(self\n",
    "                 ,name: str\n",
    "                 ,X_train: pd.DataFrame\n",
    "                 ,y_train: pd.Series\n",
    "                 ,X_test: pd.DataFrame\n",
    "                 ,y_test: pd.Series\n",
    "                 ,target_col_name: str):\n",
    "        self.name = name\n",
    "        self.X_train = X_train\n",
    "        self.y_train = y_train\n",
    "        self.X_test = X_test\n",
    "        self.y_test = y_test\n",
    "        self.target_col_name = target_col_name"
   ]
  },
  {
   "cell_type": "code",
   "execution_count": 21,
   "id": "c39f2bb1",
   "metadata": {},
   "outputs": [],
   "source": [
    "def fetch_dataset(d_name:str):\n",
    "    #get filepath\n",
    "    p_train = os.path.join(TRAIN_TEST_DATA_PATH,f\"{d_name}_test.xlsx\")\n",
    "    p_test = os.path.join(TRAIN_TEST_DATA_PATH,f\"{d_name}_train.xlsx\")\n",
    "    \n",
    "    #get train test data\n",
    "    df_train = pd.read_excel(p_train)\n",
    "    df_test = pd.read_excel(p_test)\n",
    "    \n",
    "    target_col = DATA_DICT[d_name]\n",
    "    \n",
    "    # split them to X y\n",
    "    X_train = df_train.drop(columns = target_col)\n",
    "    y_train = df_train[target_col]\n",
    "\n",
    "    X_test = df_train.drop(columns = target_col)\n",
    "    y_test = df_train[target_col]\n",
    "    \n",
    "    return Experiment_Dataset(d_name, X_train, y_train, X_test, y_test, target_col)"
   ]
  },
  {
   "cell_type": "code",
   "execution_count": 6,
   "id": "c4c68016",
   "metadata": {},
   "outputs": [
    {
     "data": {
      "text/plain": [
       "{'Adult': 'income_class',\n",
       " 'cc_fraud_1': 'Class',\n",
       " 'cc_fraud_2': 'Class',\n",
       " 'cc_fraud_3': 'Class',\n",
       " 'cc_fraud_4': 'Class',\n",
       " 'cc_fraud_05': 'Class',\n",
       " 'Churn_Ecom': 'target_class',\n",
       " 'CoverType': 'target',\n",
       " 'GMC_Credit_Scoring': 'SeriousDlqin2yrs',\n",
       " 'Nursery': 'class',\n",
       " 'PTB_Online': 'Revenue',\n",
       " 'PTP_Data': 'ordered',\n",
       " 'Taiwan_Credit_Scoring': 'Y',\n",
       " 'Wine': 'quality'}"
      ]
     },
     "execution_count": 6,
     "metadata": {},
     "output_type": "execute_result"
    }
   ],
   "source": [
    "DATA_DICT"
   ]
  },
  {
   "cell_type": "code",
   "execution_count": null,
   "id": "10fd73d9",
   "metadata": {},
   "outputs": [],
   "source": [
    "fetch_dataset()"
   ]
  }
 ],
 "metadata": {
  "kernelspec": {
   "display_name": "Python 3 (ipykernel)",
   "language": "python",
   "name": "python3"
  },
  "language_info": {
   "codemirror_mode": {
    "name": "ipython",
    "version": 3
   },
   "file_extension": ".py",
   "mimetype": "text/x-python",
   "name": "python",
   "nbconvert_exporter": "python",
   "pygments_lexer": "ipython3",
   "version": "3.11.5"
  }
 },
 "nbformat": 4,
 "nbformat_minor": 5
}
