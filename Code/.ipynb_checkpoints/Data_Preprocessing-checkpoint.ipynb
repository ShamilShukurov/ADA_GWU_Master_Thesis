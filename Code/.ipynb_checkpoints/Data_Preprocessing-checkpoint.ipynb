{
 "cells": [
  {
   "cell_type": "code",
   "execution_count": 43,
   "id": "4c1873e2",
   "metadata": {},
   "outputs": [],
   "source": [
    "import pandas as pd\n",
    "import numpy as np\n",
    "from os.path import join"
   ]
  },
  {
   "cell_type": "code",
   "execution_count": 42,
   "id": "299fbd81",
   "metadata": {},
   "outputs": [],
   "source": [
    "RAW_DATA_PATH = r\"C:\\Users\\shami\\OneDrive\\Desktop\\Master_Thesis_Data\\Raw_Data\"\n",
    "PREPARED_DATA_PATH = r\"C:\\Users\\shami\\OneDrive\\Desktop\\Master_Thesis_Data\\Prepared_Datasets\"\n",
    "TEST_DATA_PATH = r\"C:\\Users\\shami\\OneDrive\\Desktop\\Master_Thesis_Data\\Test_Datasets\"\n",
    "TRAIN_DATA_PATH = r\"C:\\Users\\shami\\OneDrive\\Desktop\\Master_Thesis_Data\\Train_Datasets\""
   ]
  },
  {
   "cell_type": "markdown",
   "id": "7241a4de",
   "metadata": {},
   "source": [
    "## Credit Card Fraud Data"
   ]
  },
  {
   "cell_type": "code",
   "execution_count": 44,
   "id": "e41c6ccc",
   "metadata": {},
   "outputs": [],
   "source": [
    "cc_fraud = pd.read_csv(join(RAW_DATA_PATH,\"creditcard.csv\"))"
   ]
  },
  {
   "cell_type": "code",
   "execution_count": 45,
   "id": "00f17d03",
   "metadata": {},
   "outputs": [
    {
     "data": {
      "text/plain": [
       "Class\n",
       "0    284315\n",
       "1       492\n",
       "Name: count, dtype: int64"
      ]
     },
     "execution_count": 45,
     "metadata": {},
     "output_type": "execute_result"
    }
   ],
   "source": [
    "cc_fraud.Class.value_counts()"
   ]
  },
  {
   "cell_type": "code",
   "execution_count": 13,
   "id": "5a003814",
   "metadata": {},
   "outputs": [],
   "source": [
    "def resample_N(percent, min_class_count):\n",
    "    return int(((min_class_count*100)/percent)-min_class_count)"
   ]
  },
  {
   "cell_type": "code",
   "execution_count": 27,
   "id": "60c8d337",
   "metadata": {},
   "outputs": [],
   "source": [
    "cc_fraud_4 = pd.concat(\n",
    "          [cc_fraud[cc_fraud.Class==0].sample(n=resample_N(4,492), random_state=42),\n",
    "           cc_fraud[cc_fraud.Class==1]\n",
    "          ]\n",
    ")"
   ]
  },
  {
   "cell_type": "code",
   "execution_count": 28,
   "id": "c13607e8",
   "metadata": {},
   "outputs": [],
   "source": [
    "cc_fraud_3 = pd.concat(\n",
    "          [cc_fraud[cc_fraud.Class==0].sample(n=resample_N(3,492), random_state=42),\n",
    "           cc_fraud[cc_fraud.Class==1]\n",
    "          ]\n",
    ")"
   ]
  },
  {
   "cell_type": "code",
   "execution_count": 29,
   "id": "e2a42dfa",
   "metadata": {},
   "outputs": [],
   "source": [
    "cc_fraud_2 = pd.concat(\n",
    "          [cc_fraud[cc_fraud.Class==0].sample(n=resample_N(2,492), random_state=42),\n",
    "           cc_fraud[cc_fraud.Class==1]\n",
    "          ]\n",
    ")"
   ]
  },
  {
   "cell_type": "code",
   "execution_count": 30,
   "id": "d244a219",
   "metadata": {},
   "outputs": [],
   "source": [
    "cc_fraud_1 = pd.concat(\n",
    "          [cc_fraud[cc_fraud.Class==0].sample(n=resample_N(1,492), random_state=42),\n",
    "           cc_fraud[cc_fraud.Class==1]\n",
    "          ]\n",
    ")"
   ]
  },
  {
   "cell_type": "code",
   "execution_count": 31,
   "id": "1ac6a3ea",
   "metadata": {},
   "outputs": [],
   "source": [
    "cc_fraud_05 = pd.concat(\n",
    "          [cc_fraud[cc_fraud.Class==0].sample(n=resample_N(0.5,492), random_state=42),\n",
    "           cc_fraud[cc_fraud.Class==1]\n",
    "          ]\n",
    ")"
   ]
  },
  {
   "cell_type": "code",
   "execution_count": 46,
   "id": "2a0af4ec",
   "metadata": {},
   "outputs": [],
   "source": [
    "cc_fraud_4.to_excel(join(PREPARED_DATA_PATH,\"cc_fraud_4.xlsx\"), index=False)\n",
    "cc_fraud_3.to_excel(join(PREPARED_DATA_PATH,\"cc_fraud_3.xlsx\"), index=False)\n",
    "cc_fraud_2.to_excel(join(PREPARED_DATA_PATH,\"cc_fraud_2.xlsx\"), index=False)\n",
    "cc_fraud_1.to_excel(join(PREPARED_DATA_PATH,\"cc_fraud_1.xlsx\"), index=False)\n",
    "cc_fraud_05.to_excel(join(PREPARED_DATA_PATH,\"cc_fraud_05.xlsx\"), index=False)"
   ]
  },
  {
   "cell_type": "code",
   "execution_count": 47,
   "id": "06de74e4",
   "metadata": {},
   "outputs": [
    {
     "data": {
      "text/plain": [
       "(24600, 31)"
      ]
     },
     "execution_count": 47,
     "metadata": {},
     "output_type": "execute_result"
    }
   ],
   "source": [
    "cc_fraud_2.shape"
   ]
  },
  {
   "cell_type": "code",
   "execution_count": 48,
   "id": "7f177420",
   "metadata": {},
   "outputs": [],
   "source": [
    "from sklearn.model_selection import train_test_split "
   ]
  },
  {
   "cell_type": "code",
   "execution_count": 49,
   "id": "cfdfb5e0",
   "metadata": {},
   "outputs": [],
   "source": [
    "cc_fraud_2_train, cc_fraud_2_test = train_test_split(cc_fraud_2, random_state=42,  \n",
    "                                                    test_size=0.1, shuffle=True)"
   ]
  },
  {
   "cell_type": "code",
   "execution_count": 53,
   "id": "09322909",
   "metadata": {},
   "outputs": [
    {
     "data": {
      "text/plain": [
       "Class\n",
       "0    0.97972\n",
       "1    0.02028\n",
       "Name: count, dtype: float64"
      ]
     },
     "execution_count": 53,
     "metadata": {},
     "output_type": "execute_result"
    }
   ],
   "source": [
    "cc_fraud_2_train.Class.value_counts()/len(cc_fraud_2_train)"
   ]
  },
  {
   "cell_type": "code",
   "execution_count": 54,
   "id": "033d86b6",
   "metadata": {},
   "outputs": [
    {
     "data": {
      "text/plain": [
       "Class\n",
       "0    0.109169\n",
       "1    0.001942\n",
       "Name: count, dtype: float64"
      ]
     },
     "execution_count": 54,
     "metadata": {},
     "output_type": "execute_result"
    }
   ],
   "source": [
    "cc_fraud_2_test.Class.value_counts()/len(cc_fraud_2_train)"
   ]
  },
  {
   "cell_type": "code",
   "execution_count": 55,
   "id": "b0181faf",
   "metadata": {},
   "outputs": [],
   "source": [
    "cc_fraud_2_test.to_excel(join(TEST_DATA_PATH,\"cc_fraud_2_test.xlsx\"), index=False)\n",
    "cc_fraud_2_train.to_excel(join(TRAIN_DATA_PATH,\"cc_fraud_2_train.xlsx\"), index=False)"
   ]
  },
  {
   "cell_type": "markdown",
   "id": "099699c9",
   "metadata": {},
   "source": [
    "## Crime Data"
   ]
  },
  {
   "cell_type": "code",
   "execution_count": 4,
   "id": "8f73acc5",
   "metadata": {},
   "outputs": [],
   "source": [
    "from imblearn.datasets import fetch_datasets\n",
    "\n",
    "# Fetch dataset from imbalanced-learn library \n",
    " # as a dictionary of numpy array\n",
    "us_crime = fetch_datasets()['us_crime']"
   ]
  },
  {
   "cell_type": "code",
   "execution_count": 5,
   "id": "0cb670bf",
   "metadata": {},
   "outputs": [],
   "source": [
    "# Convert the dictionary to a pandas dataframe\n",
    "crime_df = pd.concat([pd.DataFrame(us_crime['data'], columns = [f'data_{i}' for i in range(us_crime.data.shape[1])]),\n",
    "           pd.DataFrame(us_crime['target'], columns = ['target'])], axis = 1)"
   ]
  },
  {
   "cell_type": "code",
   "execution_count": 6,
   "id": "5b396d97",
   "metadata": {},
   "outputs": [
    {
     "data": {
      "text/html": [
       "<div>\n",
       "<style scoped>\n",
       "    .dataframe tbody tr th:only-of-type {\n",
       "        vertical-align: middle;\n",
       "    }\n",
       "\n",
       "    .dataframe tbody tr th {\n",
       "        vertical-align: top;\n",
       "    }\n",
       "\n",
       "    .dataframe thead th {\n",
       "        text-align: right;\n",
       "    }\n",
       "</style>\n",
       "<table border=\"1\" class=\"dataframe\">\n",
       "  <thead>\n",
       "    <tr style=\"text-align: right;\">\n",
       "      <th></th>\n",
       "      <th>data_0</th>\n",
       "      <th>data_1</th>\n",
       "      <th>data_2</th>\n",
       "      <th>data_3</th>\n",
       "      <th>data_4</th>\n",
       "      <th>data_5</th>\n",
       "      <th>data_6</th>\n",
       "      <th>data_7</th>\n",
       "      <th>data_8</th>\n",
       "      <th>data_9</th>\n",
       "      <th>...</th>\n",
       "      <th>data_91</th>\n",
       "      <th>data_92</th>\n",
       "      <th>data_93</th>\n",
       "      <th>data_94</th>\n",
       "      <th>data_95</th>\n",
       "      <th>data_96</th>\n",
       "      <th>data_97</th>\n",
       "      <th>data_98</th>\n",
       "      <th>data_99</th>\n",
       "      <th>target</th>\n",
       "    </tr>\n",
       "  </thead>\n",
       "  <tbody>\n",
       "    <tr>\n",
       "      <th>0</th>\n",
       "      <td>0.19</td>\n",
       "      <td>0.33</td>\n",
       "      <td>0.02</td>\n",
       "      <td>0.90</td>\n",
       "      <td>0.12</td>\n",
       "      <td>0.17</td>\n",
       "      <td>0.34</td>\n",
       "      <td>0.47</td>\n",
       "      <td>0.29</td>\n",
       "      <td>0.32</td>\n",
       "      <td>...</td>\n",
       "      <td>0.12</td>\n",
       "      <td>0.42</td>\n",
       "      <td>0.50</td>\n",
       "      <td>0.51</td>\n",
       "      <td>0.64</td>\n",
       "      <td>0.12</td>\n",
       "      <td>0.26</td>\n",
       "      <td>0.20</td>\n",
       "      <td>0.32</td>\n",
       "      <td>-1</td>\n",
       "    </tr>\n",
       "    <tr>\n",
       "      <th>1</th>\n",
       "      <td>0.00</td>\n",
       "      <td>0.16</td>\n",
       "      <td>0.12</td>\n",
       "      <td>0.74</td>\n",
       "      <td>0.45</td>\n",
       "      <td>0.07</td>\n",
       "      <td>0.26</td>\n",
       "      <td>0.59</td>\n",
       "      <td>0.35</td>\n",
       "      <td>0.27</td>\n",
       "      <td>...</td>\n",
       "      <td>0.21</td>\n",
       "      <td>0.50</td>\n",
       "      <td>0.34</td>\n",
       "      <td>0.60</td>\n",
       "      <td>0.52</td>\n",
       "      <td>0.02</td>\n",
       "      <td>0.12</td>\n",
       "      <td>0.45</td>\n",
       "      <td>0.00</td>\n",
       "      <td>1</td>\n",
       "    </tr>\n",
       "    <tr>\n",
       "      <th>2</th>\n",
       "      <td>0.00</td>\n",
       "      <td>0.42</td>\n",
       "      <td>0.49</td>\n",
       "      <td>0.56</td>\n",
       "      <td>0.17</td>\n",
       "      <td>0.04</td>\n",
       "      <td>0.39</td>\n",
       "      <td>0.47</td>\n",
       "      <td>0.28</td>\n",
       "      <td>0.32</td>\n",
       "      <td>...</td>\n",
       "      <td>0.14</td>\n",
       "      <td>0.49</td>\n",
       "      <td>0.54</td>\n",
       "      <td>0.67</td>\n",
       "      <td>0.56</td>\n",
       "      <td>0.01</td>\n",
       "      <td>0.21</td>\n",
       "      <td>0.02</td>\n",
       "      <td>0.00</td>\n",
       "      <td>-1</td>\n",
       "    </tr>\n",
       "    <tr>\n",
       "      <th>3</th>\n",
       "      <td>0.04</td>\n",
       "      <td>0.77</td>\n",
       "      <td>1.00</td>\n",
       "      <td>0.08</td>\n",
       "      <td>0.12</td>\n",
       "      <td>0.10</td>\n",
       "      <td>0.51</td>\n",
       "      <td>0.50</td>\n",
       "      <td>0.34</td>\n",
       "      <td>0.21</td>\n",
       "      <td>...</td>\n",
       "      <td>0.19</td>\n",
       "      <td>0.30</td>\n",
       "      <td>0.73</td>\n",
       "      <td>0.64</td>\n",
       "      <td>0.65</td>\n",
       "      <td>0.02</td>\n",
       "      <td>0.39</td>\n",
       "      <td>0.28</td>\n",
       "      <td>0.00</td>\n",
       "      <td>-1</td>\n",
       "    </tr>\n",
       "    <tr>\n",
       "      <th>4</th>\n",
       "      <td>0.01</td>\n",
       "      <td>0.55</td>\n",
       "      <td>0.02</td>\n",
       "      <td>0.95</td>\n",
       "      <td>0.09</td>\n",
       "      <td>0.05</td>\n",
       "      <td>0.38</td>\n",
       "      <td>0.38</td>\n",
       "      <td>0.23</td>\n",
       "      <td>0.36</td>\n",
       "      <td>...</td>\n",
       "      <td>0.11</td>\n",
       "      <td>0.72</td>\n",
       "      <td>0.64</td>\n",
       "      <td>0.61</td>\n",
       "      <td>0.53</td>\n",
       "      <td>0.04</td>\n",
       "      <td>0.09</td>\n",
       "      <td>0.02</td>\n",
       "      <td>0.00</td>\n",
       "      <td>-1</td>\n",
       "    </tr>\n",
       "    <tr>\n",
       "      <th>...</th>\n",
       "      <td>...</td>\n",
       "      <td>...</td>\n",
       "      <td>...</td>\n",
       "      <td>...</td>\n",
       "      <td>...</td>\n",
       "      <td>...</td>\n",
       "      <td>...</td>\n",
       "      <td>...</td>\n",
       "      <td>...</td>\n",
       "      <td>...</td>\n",
       "      <td>...</td>\n",
       "      <td>...</td>\n",
       "      <td>...</td>\n",
       "      <td>...</td>\n",
       "      <td>...</td>\n",
       "      <td>...</td>\n",
       "      <td>...</td>\n",
       "      <td>...</td>\n",
       "      <td>...</td>\n",
       "      <td>...</td>\n",
       "      <td>...</td>\n",
       "    </tr>\n",
       "    <tr>\n",
       "      <th>1989</th>\n",
       "      <td>0.01</td>\n",
       "      <td>0.40</td>\n",
       "      <td>0.10</td>\n",
       "      <td>0.87</td>\n",
       "      <td>0.12</td>\n",
       "      <td>0.16</td>\n",
       "      <td>0.43</td>\n",
       "      <td>0.51</td>\n",
       "      <td>0.35</td>\n",
       "      <td>0.30</td>\n",
       "      <td>...</td>\n",
       "      <td>0.22</td>\n",
       "      <td>0.28</td>\n",
       "      <td>0.34</td>\n",
       "      <td>0.48</td>\n",
       "      <td>0.39</td>\n",
       "      <td>0.01</td>\n",
       "      <td>0.28</td>\n",
       "      <td>0.05</td>\n",
       "      <td>0.00</td>\n",
       "      <td>-1</td>\n",
       "    </tr>\n",
       "    <tr>\n",
       "      <th>1990</th>\n",
       "      <td>0.05</td>\n",
       "      <td>0.96</td>\n",
       "      <td>0.46</td>\n",
       "      <td>0.28</td>\n",
       "      <td>0.83</td>\n",
       "      <td>0.32</td>\n",
       "      <td>0.69</td>\n",
       "      <td>0.86</td>\n",
       "      <td>0.73</td>\n",
       "      <td>0.14</td>\n",
       "      <td>...</td>\n",
       "      <td>0.53</td>\n",
       "      <td>0.25</td>\n",
       "      <td>0.17</td>\n",
       "      <td>0.10</td>\n",
       "      <td>0.00</td>\n",
       "      <td>0.02</td>\n",
       "      <td>0.37</td>\n",
       "      <td>0.20</td>\n",
       "      <td>0.00</td>\n",
       "      <td>-1</td>\n",
       "    </tr>\n",
       "    <tr>\n",
       "      <th>1991</th>\n",
       "      <td>0.16</td>\n",
       "      <td>0.37</td>\n",
       "      <td>0.25</td>\n",
       "      <td>0.69</td>\n",
       "      <td>0.04</td>\n",
       "      <td>0.25</td>\n",
       "      <td>0.35</td>\n",
       "      <td>0.50</td>\n",
       "      <td>0.31</td>\n",
       "      <td>0.54</td>\n",
       "      <td>...</td>\n",
       "      <td>0.25</td>\n",
       "      <td>0.68</td>\n",
       "      <td>0.61</td>\n",
       "      <td>0.79</td>\n",
       "      <td>0.76</td>\n",
       "      <td>0.08</td>\n",
       "      <td>0.32</td>\n",
       "      <td>0.18</td>\n",
       "      <td>0.91</td>\n",
       "      <td>-1</td>\n",
       "    </tr>\n",
       "    <tr>\n",
       "      <th>1992</th>\n",
       "      <td>0.08</td>\n",
       "      <td>0.51</td>\n",
       "      <td>0.06</td>\n",
       "      <td>0.87</td>\n",
       "      <td>0.22</td>\n",
       "      <td>0.10</td>\n",
       "      <td>0.58</td>\n",
       "      <td>0.74</td>\n",
       "      <td>0.63</td>\n",
       "      <td>0.41</td>\n",
       "      <td>...</td>\n",
       "      <td>0.45</td>\n",
       "      <td>0.64</td>\n",
       "      <td>0.54</td>\n",
       "      <td>0.59</td>\n",
       "      <td>0.52</td>\n",
       "      <td>0.03</td>\n",
       "      <td>0.38</td>\n",
       "      <td>0.33</td>\n",
       "      <td>0.22</td>\n",
       "      <td>-1</td>\n",
       "    </tr>\n",
       "    <tr>\n",
       "      <th>1993</th>\n",
       "      <td>0.20</td>\n",
       "      <td>0.78</td>\n",
       "      <td>0.14</td>\n",
       "      <td>0.46</td>\n",
       "      <td>0.24</td>\n",
       "      <td>0.77</td>\n",
       "      <td>0.50</td>\n",
       "      <td>0.62</td>\n",
       "      <td>0.40</td>\n",
       "      <td>0.17</td>\n",
       "      <td>...</td>\n",
       "      <td>0.68</td>\n",
       "      <td>0.50</td>\n",
       "      <td>0.34</td>\n",
       "      <td>0.35</td>\n",
       "      <td>0.68</td>\n",
       "      <td>0.11</td>\n",
       "      <td>0.30</td>\n",
       "      <td>0.05</td>\n",
       "      <td>1.00</td>\n",
       "      <td>-1</td>\n",
       "    </tr>\n",
       "  </tbody>\n",
       "</table>\n",
       "<p>1994 rows × 101 columns</p>\n",
       "</div>"
      ],
      "text/plain": [
       "      data_0  data_1  data_2  data_3  data_4  data_5  data_6  data_7  data_8  \\\n",
       "0       0.19    0.33    0.02    0.90    0.12    0.17    0.34    0.47    0.29   \n",
       "1       0.00    0.16    0.12    0.74    0.45    0.07    0.26    0.59    0.35   \n",
       "2       0.00    0.42    0.49    0.56    0.17    0.04    0.39    0.47    0.28   \n",
       "3       0.04    0.77    1.00    0.08    0.12    0.10    0.51    0.50    0.34   \n",
       "4       0.01    0.55    0.02    0.95    0.09    0.05    0.38    0.38    0.23   \n",
       "...      ...     ...     ...     ...     ...     ...     ...     ...     ...   \n",
       "1989    0.01    0.40    0.10    0.87    0.12    0.16    0.43    0.51    0.35   \n",
       "1990    0.05    0.96    0.46    0.28    0.83    0.32    0.69    0.86    0.73   \n",
       "1991    0.16    0.37    0.25    0.69    0.04    0.25    0.35    0.50    0.31   \n",
       "1992    0.08    0.51    0.06    0.87    0.22    0.10    0.58    0.74    0.63   \n",
       "1993    0.20    0.78    0.14    0.46    0.24    0.77    0.50    0.62    0.40   \n",
       "\n",
       "      data_9  ...  data_91  data_92  data_93  data_94  data_95  data_96  \\\n",
       "0       0.32  ...     0.12     0.42     0.50     0.51     0.64     0.12   \n",
       "1       0.27  ...     0.21     0.50     0.34     0.60     0.52     0.02   \n",
       "2       0.32  ...     0.14     0.49     0.54     0.67     0.56     0.01   \n",
       "3       0.21  ...     0.19     0.30     0.73     0.64     0.65     0.02   \n",
       "4       0.36  ...     0.11     0.72     0.64     0.61     0.53     0.04   \n",
       "...      ...  ...      ...      ...      ...      ...      ...      ...   \n",
       "1989    0.30  ...     0.22     0.28     0.34     0.48     0.39     0.01   \n",
       "1990    0.14  ...     0.53     0.25     0.17     0.10     0.00     0.02   \n",
       "1991    0.54  ...     0.25     0.68     0.61     0.79     0.76     0.08   \n",
       "1992    0.41  ...     0.45     0.64     0.54     0.59     0.52     0.03   \n",
       "1993    0.17  ...     0.68     0.50     0.34     0.35     0.68     0.11   \n",
       "\n",
       "      data_97  data_98  data_99  target  \n",
       "0        0.26     0.20     0.32      -1  \n",
       "1        0.12     0.45     0.00       1  \n",
       "2        0.21     0.02     0.00      -1  \n",
       "3        0.39     0.28     0.00      -1  \n",
       "4        0.09     0.02     0.00      -1  \n",
       "...       ...      ...      ...     ...  \n",
       "1989     0.28     0.05     0.00      -1  \n",
       "1990     0.37     0.20     0.00      -1  \n",
       "1991     0.32     0.18     0.91      -1  \n",
       "1992     0.38     0.33     0.22      -1  \n",
       "1993     0.30     0.05     1.00      -1  \n",
       "\n",
       "[1994 rows x 101 columns]"
      ]
     },
     "execution_count": 6,
     "metadata": {},
     "output_type": "execute_result"
    }
   ],
   "source": [
    "crime_df"
   ]
  },
  {
   "cell_type": "code",
   "execution_count": null,
   "id": "8e78256b",
   "metadata": {},
   "outputs": [],
   "source": []
  }
 ],
 "metadata": {
  "kernelspec": {
   "display_name": "Python 3 (ipykernel)",
   "language": "python",
   "name": "python3"
  },
  "language_info": {
   "codemirror_mode": {
    "name": "ipython",
    "version": 3
   },
   "file_extension": ".py",
   "mimetype": "text/x-python",
   "name": "python",
   "nbconvert_exporter": "python",
   "pygments_lexer": "ipython3",
   "version": "3.11.5"
  }
 },
 "nbformat": 4,
 "nbformat_minor": 5
}
