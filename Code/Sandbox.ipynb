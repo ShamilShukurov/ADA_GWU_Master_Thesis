{
 "cells": [
  {
   "cell_type": "code",
   "execution_count": 12,
   "id": "b2cca909",
   "metadata": {},
   "outputs": [],
   "source": [
    "from datasets import *\n",
    "from utils import *\n",
    "import time"
   ]
  },
  {
   "cell_type": "code",
   "execution_count": 13,
   "id": "01755204",
   "metadata": {},
   "outputs": [
    {
     "name": "stdout",
     "output_type": "stream",
     "text": [
      "Processing Adult...\n",
      "Adult fetched successfully\n",
      "Processing cc_fraud_1...\n",
      "cc_fraud_1 fetched successfully\n",
      "Processing cc_fraud_2...\n",
      "cc_fraud_2 fetched successfully\n",
      "Processing cc_fraud_3...\n",
      "cc_fraud_3 fetched successfully\n",
      "Processing cc_fraud_4...\n",
      "cc_fraud_4 fetched successfully\n",
      "Processing cc_fraud_05...\n",
      "cc_fraud_05 fetched successfully\n",
      "Processing Churn_Ecom...\n",
      "Churn_Ecom fetched successfully\n",
      "Processing CoverType...\n",
      "CoverType fetched successfully\n",
      "Processing GMC_Credit_Scoring...\n",
      "GMC_Credit_Scoring fetched successfully\n",
      "Processing Nursery...\n",
      "Nursery fetched successfully\n",
      "Processing PTB_Online...\n",
      "PTB_Online fetched successfully\n",
      "Processing PTP_Data...\n",
      "PTP_Data fetched successfully\n",
      "Processing Taiwan_Credit_Scoring...\n",
      "Taiwan_Credit_Scoring fetched successfully\n",
      "Processing Wine...\n",
      "Wine fetched successfully\n"
     ]
    }
   ],
   "source": [
    "start_time = time.time()\n",
    "dfs = fetch_all_datasets()\n",
    "end_time = time.time()"
   ]
  },
  {
   "cell_type": "code",
   "execution_count": 14,
   "id": "6f928ae2",
   "metadata": {},
   "outputs": [
    {
     "data": {
      "text/plain": [
       "14"
      ]
     },
     "execution_count": 14,
     "metadata": {},
     "output_type": "execute_result"
    }
   ],
   "source": [
    "len(dfs)"
   ]
  },
  {
   "cell_type": "code",
   "execution_count": 15,
   "id": "c5e923c0",
   "metadata": {},
   "outputs": [
    {
     "data": {
      "text/plain": [
       "7.0"
      ]
     },
     "execution_count": 15,
     "metadata": {},
     "output_type": "execute_result"
    }
   ],
   "source": [
    "439.3346195220947//60"
   ]
  },
  {
   "cell_type": "code",
   "execution_count": 16,
   "id": "ce861040",
   "metadata": {},
   "outputs": [
    {
     "name": "stdout",
     "output_type": "stream",
     "text": [
      "==========Adult==========\n",
      "  income_class  Counts    Percents\n",
      "0            0  7170.0   75.275591\n",
      "1            1  2355.0   24.724409\n",
      "2        Total  9525.0  100.000000\n",
      "==========cc_fraud_1==========\n",
      "   Class  Counts    Percents\n",
      "0      0  9742.0   99.004065\n",
      "1      1    98.0    0.995935\n",
      "2  Total  9840.0  100.000000\n",
      "==========cc_fraud_2==========\n",
      "   Class  Counts    Percents\n",
      "0      0  2417.0   98.252033\n",
      "1      1    43.0    1.747967\n",
      "2  Total  2460.0  100.000000\n",
      "==========cc_fraud_3==========\n",
      "   Class  Counts    Percents\n",
      "0      0  1582.0   96.463415\n",
      "1      1    58.0    3.536585\n",
      "2  Total  1640.0  100.000000\n",
      "==========cc_fraud_4==========\n",
      "   Class  Counts   Percents\n",
      "0      0  1181.0   96.01626\n",
      "1      1    49.0    3.98374\n",
      "2  Total  1230.0  100.00000\n",
      "==========cc_fraud_05==========\n",
      "   Class   Counts    Percents\n",
      "0      0  29376.0   99.512195\n",
      "1      1    144.0    0.487805\n",
      "2  Total  29520.0  100.000000\n",
      "==========Churn_Ecom==========\n",
      "  target_class  Counts    Percents\n",
      "0            0  8793.0   89.070097\n",
      "1            1  1079.0   10.929903\n",
      "2        Total  9872.0  100.000000\n",
      "==========CoverType==========\n",
      "  target   Counts  Percents\n",
      "0      0   9645.0     96.45\n",
      "1      1    355.0      3.55\n",
      "2  Total  10000.0    100.00\n",
      "==========GMC_Credit_Scoring==========\n",
      "  SeriousDlqin2yrs   Counts    Percents\n",
      "0                0  42020.0   93.377778\n",
      "1                1   2980.0    6.622222\n",
      "2            Total  45000.0  100.000000\n",
      "==========Nursery==========\n",
      "   class  Counts    Percents\n",
      "0      0  1261.0   97.299383\n",
      "1      1    35.0    2.700617\n",
      "2  Total  1296.0  100.000000\n",
      "==========PTB_Online==========\n",
      "  Revenue  Counts    Percents\n",
      "0       0  1030.0   83.536091\n",
      "1       1   203.0   16.463909\n",
      "2   Total  1233.0  100.000000\n",
      "==========PTP_Data==========\n",
      "  ordered   Counts    Percents\n",
      "0       0  37398.0   95.892308\n",
      "1       1   1602.0    4.107692\n",
      "2   Total  39000.0  100.000000\n",
      "==========Taiwan_Credit_Scoring==========\n",
      "       Y  Counts    Percents\n",
      "0      0  2341.0   78.033333\n",
      "1      1   659.0   21.966667\n",
      "2  Total  3000.0  100.000000\n",
      "==========Wine==========\n",
      "  quality  Counts    Percents\n",
      "0       0   525.0   80.769231\n",
      "1       1   125.0   19.230769\n",
      "2   Total   650.0  100.000000\n"
     ]
    }
   ],
   "source": [
    "for d in dfs:\n",
    "    print(10*\"=\"+d.name+10*\"=\")\n",
    "    print(get_stats(pd.concat([d.X_train, d.y_train], axis=1), d.target_col_name))"
   ]
  },
  {
   "cell_type": "code",
   "execution_count": null,
   "id": "5f149193",
   "metadata": {},
   "outputs": [],
   "source": []
  }
 ],
 "metadata": {
  "kernelspec": {
   "display_name": "Python 3 (ipykernel)",
   "language": "python",
   "name": "python3"
  },
  "language_info": {
   "codemirror_mode": {
    "name": "ipython",
    "version": 3
   },
   "file_extension": ".py",
   "mimetype": "text/x-python",
   "name": "python",
   "nbconvert_exporter": "python",
   "pygments_lexer": "ipython3",
   "version": "3.11.5"
  }
 },
 "nbformat": 4,
 "nbformat_minor": 5
}
