{
 "cells": [
  {
   "cell_type": "code",
   "execution_count": 1,
   "id": "1da577ab",
   "metadata": {},
   "outputs": [],
   "source": [
    "import pandas as pd\n",
    "import os\n",
    "from sklearn.model_selection import train_test_split\n",
    "PREPARED_DATA_PATH = r\"C:\\Users\\shami\\Desktop\\Master_Thesis_Data\\Prepared_Datasets\"\n",
    "TRAIN_TEST_DATA_PATH = r\"C:\\Users\\shami\\Desktop\\Master_Thesis_Data\\Train_Test_Datasets\""
   ]
  },
  {
   "cell_type": "code",
   "execution_count": 2,
   "id": "c43a9f16",
   "metadata": {},
   "outputs": [],
   "source": [
    "def split_and_save_excel_files(folder_path, output_folder):\n",
    "    # List all Excel files in the given folder\n",
    "    excel_files = [f for f in os.listdir(folder_path) if f.endswith('.xlsx') or f.endswith('.xls')]\n",
    "    \n",
    "    for file in excel_files:\n",
    "        print(f\"Processing '{file}':\")\n",
    "        # Construct file path\n",
    "        file_path = os.path.join(folder_path, file)\n",
    "        # Read the Excel file into a DataFrame\n",
    "        df = pd.read_excel(file_path)\n",
    "        \n",
    "        # Determine test size based on the number of rows\n",
    "        if len(df) > 95000:\n",
    "            test_size = 0.3\n",
    "        elif 45000 < len(df) <= 95000:\n",
    "            test_size = 0.2\n",
    "        else:\n",
    "            test_size = 0.1\n",
    "        \n",
    "        # Split the DataFrame into training and testing sets\n",
    "        df_train, df_test = train_test_split(df, random_state=42, test_size=test_size, shuffle=True)\n",
    "        \n",
    "        # Construct the output file names\n",
    "        base_filename = os.path.splitext(file)[0]\n",
    "        train_file_path = os.path.join(output_folder, f\"{base_filename}_train.xlsx\")\n",
    "        test_file_path = os.path.join(output_folder, f\"{base_filename}_test.xlsx\")\n",
    "        \n",
    "        # Save the training and testing sets\n",
    "        df_train.to_excel(train_file_path, index=False)\n",
    "        df_test.to_excel(test_file_path, index=False)\n",
    "        \n",
    "        # Print information about the processed file\n",
    "        print(f\"Processed '{file}':\")\n",
    "        print(f\"    Total rows: {len(df)}, Training rows: {len(df_train)}, Testing rows: {len(df_test)}\")"
   ]
  },
  {
   "cell_type": "code",
   "execution_count": 3,
   "id": "40105177",
   "metadata": {},
   "outputs": [
    {
     "name": "stdout",
     "output_type": "stream",
     "text": [
      "Processing 'Adult.xlsx':\n",
      "Processed 'Adult.xlsx':\n",
      "    Total rows: 47621, Training rows: 38096, Testing rows: 9525\n",
      "Processing 'cc_fraud_05.xlsx':\n",
      "Processed 'cc_fraud_05.xlsx':\n",
      "    Total rows: 98400, Training rows: 68880, Testing rows: 29520\n",
      "Processing 'cc_fraud_1.xlsx':\n",
      "Processed 'cc_fraud_1.xlsx':\n",
      "    Total rows: 49200, Training rows: 39360, Testing rows: 9840\n",
      "Processing 'cc_fraud_2.xlsx':\n",
      "Processed 'cc_fraud_2.xlsx':\n",
      "    Total rows: 24600, Training rows: 22140, Testing rows: 2460\n",
      "Processing 'cc_fraud_3.xlsx':\n",
      "Processed 'cc_fraud_3.xlsx':\n",
      "    Total rows: 16400, Training rows: 14760, Testing rows: 1640\n",
      "Processing 'cc_fraud_4.xlsx':\n",
      "Processed 'cc_fraud_4.xlsx':\n",
      "    Total rows: 12300, Training rows: 11070, Testing rows: 1230\n",
      "Processing 'Churn_Ecom.xlsx':\n",
      "Processed 'Churn_Ecom.xlsx':\n",
      "    Total rows: 49358, Training rows: 39486, Testing rows: 9872\n",
      "Processing 'CoverType.xlsx':\n",
      "Processed 'CoverType.xlsx':\n",
      "    Total rows: 50000, Training rows: 40000, Testing rows: 10000\n",
      "Processing 'GMC_Credit_Scoring.xlsx':\n",
      "Processed 'GMC_Credit_Scoring.xlsx':\n",
      "    Total rows: 150000, Training rows: 105000, Testing rows: 45000\n",
      "Processing 'Nursery.xlsx':\n",
      "Processed 'Nursery.xlsx':\n",
      "    Total rows: 12960, Training rows: 11664, Testing rows: 1296\n",
      "Processing 'PTB_Online.xlsx':\n",
      "Processed 'PTB_Online.xlsx':\n",
      "    Total rows: 12330, Training rows: 11097, Testing rows: 1233\n",
      "Processing 'PTP_Data.xlsx':\n",
      "Processed 'PTP_Data.xlsx':\n",
      "    Total rows: 130000, Training rows: 91000, Testing rows: 39000\n",
      "Processing 'Taiwan_Credit_Scoring.xlsx':\n",
      "Processed 'Taiwan_Credit_Scoring.xlsx':\n",
      "    Total rows: 30000, Training rows: 27000, Testing rows: 3000\n",
      "Processing 'Wine.xlsx':\n",
      "Processed 'Wine.xlsx':\n",
      "    Total rows: 6497, Training rows: 5847, Testing rows: 650\n"
     ]
    }
   ],
   "source": [
    "split_and_save_excel_files(PREPARED_DATA_PATH, TRAIN_TEST_DATA_PATH)"
   ]
  },
  {
   "cell_type": "code",
   "execution_count": null,
   "id": "2982633c",
   "metadata": {},
   "outputs": [],
   "source": []
  }
 ],
 "metadata": {
  "kernelspec": {
   "display_name": "Python 3 (ipykernel)",
   "language": "python",
   "name": "python3"
  },
  "language_info": {
   "codemirror_mode": {
    "name": "ipython",
    "version": 3
   },
   "file_extension": ".py",
   "mimetype": "text/x-python",
   "name": "python",
   "nbconvert_exporter": "python",
   "pygments_lexer": "ipython3",
   "version": "3.11.5"
  }
 },
 "nbformat": 4,
 "nbformat_minor": 5
}
